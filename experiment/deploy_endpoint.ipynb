{
 "cells": [
  {
   "cell_type": "markdown",
   "metadata": {},
   "source": [
    "# Deploy Scikit Learn model to a Serverless Endpoint"
   ]
  },
  {
   "cell_type": "markdown",
   "metadata": {},
   "source": [
    "## Setup environment"
   ]
  },
  {
   "cell_type": "code",
   "execution_count": null,
   "metadata": {},
   "outputs": [],
   "source": [
    "import yaml\n",
    "import json\n",
    "import boto3\n",
    "import mlflow\n",
    "import logging\n",
    "import sagemaker\n",
    "import mlflow.sagemaker\n",
    "from sklearn import datasets\n",
    "\n",
    "logging.basicConfig(level=logging.INFO)\n",
    "\n",
    "# IAM ROLE\n",
    "iam_role = sagemaker.get_execution_role()\n",
    "\n",
    "# AWS REGION\n",
    "region = sagemaker.Session().boto_region_name\n",
    "\n",
    "# CONFIG\n",
    "with open(\"../cfg/model_deploy.yaml\") as f:\n",
    "    config = yaml.load(f, Loader=yaml.SafeLoader)\n",
    "\n",
    "# SET MLFLOW TRACKING URI\n",
    "mlflow.set_tracking_uri(config[\"model\"][\"tracking_uri\"])"
   ]
  },
  {
   "cell_type": "markdown",
   "metadata": {},
   "source": [
    "## Create Model"
   ]
  },
  {
   "cell_type": "code",
   "execution_count": null,
   "metadata": {},
   "outputs": [],
   "source": [
    "# MLFLOW MODEL URI\n",
    "model_uri = f\"models:/{config['model']['name']}/{config['model']['version']}\""
   ]
  },
  {
   "cell_type": "markdown",
   "metadata": {},
   "source": [
    "## Deploy"
   ]
  },
  {
   "cell_type": "code",
   "execution_count": null,
   "metadata": {
    "scrolled": true
   },
   "outputs": [],
   "source": [
    "# DEPLOY ENDPOINT\n",
    "logging.info(\"DEPLOYING ENDPOINT\")\n",
    "mlflow.sagemaker.deploy(\n",
    "    mode=\"create\",\n",
    "    app_name=config[\"endpoint\"][\"name\"],\n",
    "    model_uri=model_uri,\n",
    "    image_url=config[\"endpoint\"][\"image_uri\"],\n",
    "    execution_role_arn=iam_role,\n",
    "    instance_type=\"ml.m5.xlarge\",\n",
    "    instance_count=1,\n",
    "    region_name=region,\n",
    ")\n"
   ]
  },
  {
   "cell_type": "markdown",
   "metadata": {},
   "source": [
    "## Predict"
   ]
  },
  {
   "cell_type": "code",
   "execution_count": null,
   "metadata": {},
   "outputs": [],
   "source": [
    "# load housing dataset\n",
    "df = datasets.fetch_california_housing(as_frame=True).frame\n",
    "df = df.drop(\"MedHouseVal\", axis=1)"
   ]
  },
  {
   "cell_type": "code",
   "execution_count": null,
   "metadata": {},
   "outputs": [],
   "source": [
    "runtime= boto3.client('runtime.sagemaker')\n",
    "\n",
    "# predict on the first row of the dataset\n",
    "payload = df.iloc[[0]].to_json(orient=\"split\")\n",
    "\n",
    "runtime_response = runtime.invoke_endpoint(\n",
    "    EndpointName=config[\"endpoint\"][\"name\"], \n",
    "    ContentType='application/json', \n",
    "    Body=payload\n",
    ")\n",
    "result = json.loads(runtime_response['Body'].read().decode())\n",
    "\n",
    "print(f'Payload: {payload} \\n')\n",
    "print(f'Prediction: {result}')"
   ]
  },
  {
   "cell_type": "markdown",
   "metadata": {},
   "source": [
    "## Delete endpoint"
   ]
  },
  {
   "cell_type": "code",
   "execution_count": null,
   "metadata": {},
   "outputs": [],
   "source": [
    "mlflow.sagemaker.delete(app_name=config[\"endpoint\"][\"name\"], region_name=region)"
   ]
  },
  {
   "cell_type": "code",
   "execution_count": null,
   "metadata": {},
   "outputs": [],
   "source": []
  }
 ],
 "metadata": {
  "kernelspec": {
   "display_name": "conda_python3",
   "language": "python",
   "name": "conda_python3"
  },
  "language_info": {
   "codemirror_mode": {
    "name": "ipython",
    "version": 3
   },
   "file_extension": ".py",
   "mimetype": "text/x-python",
   "name": "python",
   "nbconvert_exporter": "python",
   "pygments_lexer": "ipython3",
   "version": "3.8.12"
  },
  "notice": "Copyright 2017 Amazon.com, Inc. or its affiliates. All Rights Reserved.  Licensed under the Apache License, Version 2.0 (the \"License\"). You may not use this file except in compliance with the License. A copy of the License is located at http://aws.amazon.com/apache2.0/ or in the \"license\" file accompanying this file. This file is distributed on an \"AS IS\" BASIS, WITHOUT WARRANTIES OR CONDITIONS OF ANY KIND, either express or implied. See the License for the specific language governing permissions and limitations under the License.",
  "vscode": {
   "interpreter": {
    "hash": "3b41de70bedc0e302a3aeb58a0c77b854f2e56c8930e61a4aaa3340c96b01f1d"
   }
  }
 },
 "nbformat": 4,
 "nbformat_minor": 4
}
